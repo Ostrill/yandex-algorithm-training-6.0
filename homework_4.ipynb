{
 "cells": [
  {
   "cell_type": "markdown",
   "id": "d6d631ff-fb3e-42d8-9b9d-827d973f5620",
   "metadata": {},
   "source": [
    "# Занятие 4. Деревья, представления и обходы"
   ]
  },
  {
   "cell_type": "code",
   "execution_count": 1,
   "id": "74e05171-5bc1-4394-be7a-c9fb5c719481",
   "metadata": {},
   "outputs": [],
   "source": [
    "# Замена стандартного метода input() для чтения из строки\n",
    "from utils.string_input import input, set_input"
   ]
  },
  {
   "cell_type": "markdown",
   "id": "e6459f4c-0bad-4f4d-a747-bb916c281fa6",
   "metadata": {},
   "source": [
    "---"
   ]
  },
  {
   "cell_type": "markdown",
   "id": "9f5eaadb-98e9-4133-913b-52cff1296f9a",
   "metadata": {},
   "source": [
    "## A. Родословная: подсчет уровней"
   ]
  },
  {
   "cell_type": "code",
   "execution_count": 2,
   "id": "0526963f-9397-4752-bbe3-ad1e0f0c7025",
   "metadata": {},
   "outputs": [
    {
     "name": "stdout",
     "output_type": "stream",
     "text": [
      "Alexander_I 4\n",
      "Alexei 1\n",
      "Anna 1\n",
      "Elizabeth 1\n",
      "Nicholaus_I 4\n",
      "Paul_I 3\n",
      "Peter_I 0\n",
      "Peter_II 2\n",
      "Peter_III 2\n"
     ]
    }
   ],
   "source": [
    "set_input(\"\"\"\n",
    "9\n",
    "Alexei Peter_I\n",
    "Anna Peter_I\n",
    "Elizabeth Peter_I\n",
    "Peter_II Alexei\n",
    "Peter_III Anna\n",
    "Paul_I Peter_III\n",
    "Alexander_I Paul_I\n",
    "Nicholaus_I Paul_I\n",
    "\"\"\")\n",
    "\n",
    "n = int(input())\n",
    "parents = dict(input().split() for _ in range(n-1))\n",
    "\n",
    "for name in sorted({*parents} | {*parents.values()}):\n",
    "    parent = name\n",
    "    for i in range(n):\n",
    "        if parent not in parents:\n",
    "            break\n",
    "        parent = parents[parent]\n",
    "    print(name, i)"
   ]
  },
  {
   "cell_type": "markdown",
   "id": "b7a5d357-3e6a-4cbd-b86a-2e92c6b1ba44",
   "metadata": {},
   "source": [
    "---"
   ]
  },
  {
   "cell_type": "markdown",
   "id": "40ce0870-673a-47c1-a2f4-fd515c72b91e",
   "metadata": {},
   "source": [
    "## B. Родословная: число потомков"
   ]
  },
  {
   "cell_type": "code",
   "execution_count": 5,
   "id": "1430f78e-a07a-4e29-8626-368ea377d791",
   "metadata": {},
   "outputs": [
    {
     "name": "stdout",
     "output_type": "stream",
     "text": [
      "Alexander_I 0\n",
      "Alexei 1\n",
      "Anna 4\n",
      "Elizabeth 0\n",
      "Nicholaus_I 0\n",
      "Paul_I 2\n",
      "Peter_I 8\n",
      "Peter_II 0\n",
      "Peter_III 3\n"
     ]
    }
   ],
   "source": [
    "set_input('''\n",
    "9\n",
    "Alexei Peter_I\n",
    "Anna Peter_I\n",
    "Elizabeth Peter_I\n",
    "Peter_II Alexei\n",
    "Peter_III Anna\n",
    "Paul_I Peter_III\n",
    "Alexander_I Paul_I\n",
    "Nicholaus_I Paul_I\n",
    "''')\n",
    "\n",
    "__import__('sys').setrecursionlimit(100000)\n",
    "n = int(input())\n",
    "tree, counts = {}, {}\n",
    "names, children_names = set(), set()\n",
    "\n",
    "for _ in range(n-1):\n",
    "    child, parent = input().split()\n",
    "    names |= {child, parent}\n",
    "    children_names |= {child}\n",
    "    tree[parent] = tree.get(parent, []) + [child]\n",
    "\n",
    "def count_children(name):\n",
    "    count = 0\n",
    "    for child in tree.get(name, []):\n",
    "        count += 1 + count_children(child)\n",
    "    counts[name] = count\n",
    "    return count\n",
    "\n",
    "root = (names - children_names).pop()\n",
    "count_children(root)\n",
    "\n",
    "for name in sorted(names):\n",
    "    print(name, counts.get(name, 0))"
   ]
  },
  {
   "cell_type": "markdown",
   "id": "5ed0f7c1-4ad8-482e-88a5-6550ae6df93a",
   "metadata": {},
   "source": [
    "---"
   ]
  },
  {
   "cell_type": "markdown",
   "id": "f19418ee-5b1e-4d80-853c-8f5b9d1a3948",
   "metadata": {},
   "source": [
    "## C. Родословная: LCA"
   ]
  },
  {
   "cell_type": "code",
   "execution_count": null,
   "id": "cad3eaa9-4ec4-40eb-a2f1-84e6702d50e9",
   "metadata": {},
   "outputs": [],
   "source": [
    "set_input(\"\"\"\n",
    "\n",
    "\"\"\")"
   ]
  },
  {
   "cell_type": "markdown",
   "id": "317c7279-cc1f-4490-a797-0d92c35673df",
   "metadata": {},
   "source": [
    "---"
   ]
  },
  {
   "cell_type": "markdown",
   "id": "2dba1306-6130-4cb6-a500-9c4598d14877",
   "metadata": {},
   "source": [
    "## D. Бинарное дерево (вставка, поиск, обход)"
   ]
  },
  {
   "cell_type": "code",
   "execution_count": null,
   "id": "05675ee0-549b-4b66-8a1f-818d3da3cb95",
   "metadata": {},
   "outputs": [],
   "source": [
    "set_input(\"\"\"\n",
    "\n",
    "\"\"\")"
   ]
  },
  {
   "cell_type": "markdown",
   "id": "17b36ac1-eec4-4134-912b-5d70ed309440",
   "metadata": {},
   "source": [
    "---"
   ]
  },
  {
   "cell_type": "markdown",
   "id": "24089034-a884-41b6-adf0-8effc53a4198",
   "metadata": {},
   "source": [
    "## E. Размер поддеревьев"
   ]
  },
  {
   "cell_type": "code",
   "execution_count": null,
   "id": "a55ba6bb-e876-45e3-b206-aaac2317128c",
   "metadata": {},
   "outputs": [],
   "source": [
    "set_input(\"\"\"\n",
    "\n",
    "\"\"\")"
   ]
  },
  {
   "cell_type": "markdown",
   "id": "57198412-a374-4e15-822e-094066903c01",
   "metadata": {},
   "source": [
    "---"
   ]
  },
  {
   "cell_type": "markdown",
   "id": "72d5815f-36cc-461f-a041-3be0099d55e5",
   "metadata": {},
   "source": [
    "## F. Бюрократия"
   ]
  },
  {
   "cell_type": "code",
   "execution_count": null,
   "id": "2aa473ed-559f-4d3b-85f5-d90a07751c50",
   "metadata": {},
   "outputs": [],
   "source": [
    "set_input(\"\"\"\n",
    "\n",
    "\"\"\")"
   ]
  },
  {
   "cell_type": "markdown",
   "id": "fb037a0e-91bd-4b9b-8935-6748334dc623",
   "metadata": {},
   "source": [
    "---"
   ]
  },
  {
   "cell_type": "markdown",
   "id": "a4bc73d2-79ff-4562-9b76-9121eb1ae6f7",
   "metadata": {},
   "source": [
    "## G. Дятлы"
   ]
  },
  {
   "cell_type": "code",
   "execution_count": null,
   "id": "69cc7f09-94ae-40d7-97f6-150215d3b52d",
   "metadata": {},
   "outputs": [],
   "source": [
    "set_input(\"\"\"\n",
    "\n",
    "\"\"\")"
   ]
  },
  {
   "cell_type": "markdown",
   "id": "07575333-5009-42e5-a990-37cb040ec93c",
   "metadata": {},
   "source": [
    "---"
   ]
  },
  {
   "cell_type": "markdown",
   "id": "11a19596-48db-4f85-b012-979696ff598a",
   "metadata": {},
   "source": [
    "## H. Вершинно-реберное покрытие дерева *"
   ]
  },
  {
   "cell_type": "code",
   "execution_count": null,
   "id": "e5eb734b-300e-4736-806a-f3f344036a27",
   "metadata": {},
   "outputs": [],
   "source": [
    "set_input(\"\"\"\n",
    "\n",
    "\"\"\")"
   ]
  },
  {
   "cell_type": "markdown",
   "id": "68d585c4-b8b4-4faa-b4f0-1f843b933d3b",
   "metadata": {},
   "source": [
    "---"
   ]
  },
  {
   "cell_type": "markdown",
   "id": "769e15b9-da56-48f9-9d6c-39f31da2da33",
   "metadata": {},
   "source": [
    "## I. Пара путей *"
   ]
  },
  {
   "cell_type": "code",
   "execution_count": null,
   "id": "8bab2379-701f-49ac-b405-b70de627d1f7",
   "metadata": {},
   "outputs": [],
   "source": [
    "set_input(\"\"\"\n",
    "\n",
    "\"\"\")"
   ]
  },
  {
   "cell_type": "markdown",
   "id": "e70fa749-7e81-400b-aca6-8ddb38e96421",
   "metadata": {},
   "source": [
    "---"
   ]
  },
  {
   "cell_type": "markdown",
   "id": "43f14a21-895d-4138-a1e6-4ebad7194bfa",
   "metadata": {},
   "source": [
    "## J. Количество топсортов дерева *"
   ]
  },
  {
   "cell_type": "code",
   "execution_count": null,
   "id": "ffd205db-14f0-4c52-880d-ef2c0d6c5f63",
   "metadata": {},
   "outputs": [],
   "source": [
    "set_input(\"\"\"\n",
    "\n",
    "\"\"\")"
   ]
  }
 ],
 "metadata": {
  "kernelspec": {
   "display_name": "Python 3 (ipykernel)",
   "language": "python",
   "name": "python3"
  },
  "language_info": {
   "codemirror_mode": {
    "name": "ipython",
    "version": 3
   },
   "file_extension": ".py",
   "mimetype": "text/x-python",
   "name": "python",
   "nbconvert_exporter": "python",
   "pygments_lexer": "ipython3",
   "version": "3.12.1"
  }
 },
 "nbformat": 4,
 "nbformat_minor": 5
}
