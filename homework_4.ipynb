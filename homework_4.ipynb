{
 "cells": [
  {
   "cell_type": "markdown",
   "id": "d6d631ff-fb3e-42d8-9b9d-827d973f5620",
   "metadata": {},
   "source": [
    "# Занятие 4. Деревья, представления и обходы"
   ]
  },
  {
   "cell_type": "code",
   "execution_count": 1,
   "id": "74e05171-5bc1-4394-be7a-c9fb5c719481",
   "metadata": {},
   "outputs": [],
   "source": [
    "# Замена стандартного метода input() для чтения из строки\n",
    "from utils.string_input import input, set_input, set_file"
   ]
  },
  {
   "cell_type": "markdown",
   "id": "e6459f4c-0bad-4f4d-a747-bb916c281fa6",
   "metadata": {},
   "source": [
    "---"
   ]
  },
  {
   "cell_type": "markdown",
   "id": "9f5eaadb-98e9-4133-913b-52cff1296f9a",
   "metadata": {
    "jp-MarkdownHeadingCollapsed": true
   },
   "source": [
    "## A. Родословная: подсчет уровней"
   ]
  },
  {
   "cell_type": "code",
   "execution_count": 2,
   "id": "0526963f-9397-4752-bbe3-ad1e0f0c7025",
   "metadata": {},
   "outputs": [
    {
     "name": "stdout",
     "output_type": "stream",
     "text": [
      "Alexander_I 4\n",
      "Alexei 1\n",
      "Anna 1\n",
      "Elizabeth 1\n",
      "Nicholaus_I 4\n",
      "Paul_I 3\n",
      "Peter_I 0\n",
      "Peter_II 2\n",
      "Peter_III 2\n"
     ]
    }
   ],
   "source": [
    "set_input(\"\"\"\n",
    "9\n",
    "Alexei Peter_I\n",
    "Anna Peter_I\n",
    "Elizabeth Peter_I\n",
    "Peter_II Alexei\n",
    "Peter_III Anna\n",
    "Paul_I Peter_III\n",
    "Alexander_I Paul_I\n",
    "Nicholaus_I Paul_I\n",
    "\"\"\")\n",
    "\n",
    "n = int(input())\n",
    "parents = dict(input().split() for _ in range(n-1))\n",
    "\n",
    "for name in sorted({*parents} | {*parents.values()}):\n",
    "    parent = name\n",
    "    for i in range(n):\n",
    "        if parent not in parents:\n",
    "            break\n",
    "        parent = parents[parent]\n",
    "    print(name, i)"
   ]
  },
  {
   "cell_type": "markdown",
   "id": "b7a5d357-3e6a-4cbd-b86a-2e92c6b1ba44",
   "metadata": {},
   "source": [
    "---"
   ]
  },
  {
   "cell_type": "markdown",
   "id": "40ce0870-673a-47c1-a2f4-fd515c72b91e",
   "metadata": {
    "jp-MarkdownHeadingCollapsed": true
   },
   "source": [
    "## B. Родословная: число потомков"
   ]
  },
  {
   "cell_type": "code",
   "execution_count": 95,
   "id": "8d94e0f3-38dd-4276-ac51-504da371a8ef",
   "metadata": {},
   "outputs": [
    {
     "name": "stdout",
     "output_type": "stream",
     "text": [
      "Alexander_I 0\n",
      "Alexei 1\n",
      "Anna 4\n",
      "Elizabeth 0\n",
      "Nicholaus_I 0\n",
      "Paul_I 2\n",
      "Peter_I 8\n",
      "Peter_II 0\n",
      "Peter_III 3\n"
     ]
    }
   ],
   "source": [
    "set_input('''\n",
    "9\n",
    "Alexei Peter_I\n",
    "Anna Peter_I\n",
    "Elizabeth Peter_I\n",
    "Peter_II Alexei\n",
    "Peter_III Anna\n",
    "Paul_I Peter_III\n",
    "Alexander_I Paul_I\n",
    "Nicholaus_I Paul_I\n",
    "''')\n",
    "\n",
    "from collections import defaultdict\n",
    "import sys\n",
    "\n",
    "\n",
    "sys.setrecursionlimit(1000000)\n",
    "n = int(input())\n",
    "tree = defaultdict(list)\n",
    "descendants = defaultdict(int)\n",
    "children = set()\n",
    "\n",
    "for _ in range(n-1):\n",
    "    child, parent = input().split()\n",
    "    children.add(child)\n",
    "    tree[parent].append(child)\n",
    "\n",
    "def count_descendants(node):\n",
    "    for child in tree[node]:\n",
    "        descendants[node] += count_descendants(child)\n",
    "    return descendants[node] + 1\n",
    "\n",
    "count_descendants(({*tree} - children).pop())\n",
    "for name in sorted(tree):\n",
    "    print(name, descendants[name])"
   ]
  },
  {
   "cell_type": "markdown",
   "id": "5ed0f7c1-4ad8-482e-88a5-6550ae6df93a",
   "metadata": {},
   "source": [
    "---"
   ]
  },
  {
   "cell_type": "markdown",
   "id": "f19418ee-5b1e-4d80-853c-8f5b9d1a3948",
   "metadata": {
    "jp-MarkdownHeadingCollapsed": true
   },
   "source": [
    "## C. Родословная: LCA"
   ]
  },
  {
   "cell_type": "code",
   "execution_count": 13,
   "id": "dbcbde71-0653-4abe-825f-47b96ac164b9",
   "metadata": {},
   "outputs": [
    {
     "name": "stdout",
     "output_type": "stream",
     "text": [
      "Paul_I\n",
      "Peter_I\n",
      "Anna\n"
     ]
    }
   ],
   "source": [
    "set_file(\"\"\"\n",
    "9\n",
    "Alexei Peter_I\n",
    "Anna Peter_I\n",
    "Elizabeth Peter_I\n",
    "Peter_II Alexei\n",
    "Peter_III Anna\n",
    "Paul_I Peter_III\n",
    "Alexander_I Paul_I\n",
    "Nicholaus_I Paul_I\n",
    "Alexander_I Nicholaus_I\n",
    "Peter_II Paul_I\n",
    "Alexander_I Anna\n",
    "\"\"\")\n",
    "\n",
    "with open('input.txt', 'r') as file:\n",
    "    lines = [line.strip() for line in file]\n",
    "\n",
    "n = int(lines[0])\n",
    "tree, parents = {}, {}\n",
    "\n",
    "for line in lines[1:n]:\n",
    "    child, parent = line.split()\n",
    "    tree[parent] = tree.get(parent, []) + [child]\n",
    "    parents[child] = parent\n",
    "\n",
    "def path_to_root(name):\n",
    "    path = []\n",
    "    while name in parents:\n",
    "        path.append(name)\n",
    "        name = parents[name]\n",
    "    return path + [name]\n",
    "\n",
    "def find_lca(name1, name2):\n",
    "    path1 = path_to_root(name1)\n",
    "    path2 = path_to_root(name2)\n",
    "    lca = None\n",
    "    for a, b in zip(path1[::-1], path2[::-1]):\n",
    "        if a == b:\n",
    "            lca = a\n",
    "        else:\n",
    "            break\n",
    "    return lca\n",
    "\n",
    "for line in lines[n:]:\n",
    "    print(find_lca(*line.split()))"
   ]
  },
  {
   "cell_type": "markdown",
   "id": "317c7279-cc1f-4490-a797-0d92c35673df",
   "metadata": {},
   "source": [
    "---"
   ]
  },
  {
   "cell_type": "markdown",
   "id": "2dba1306-6130-4cb6-a500-9c4598d14877",
   "metadata": {
    "jp-MarkdownHeadingCollapsed": true
   },
   "source": [
    "## D. Бинарное дерево (вставка, поиск, обход)"
   ]
  },
  {
   "cell_type": "code",
   "execution_count": 3,
   "id": "05675ee0-549b-4b66-8a1f-818d3da3cb95",
   "metadata": {},
   "outputs": [
    {
     "name": "stdout",
     "output_type": "stream",
     "text": [
      "DONE\n",
      "DONE\n",
      "ALREADY\n",
      "YES\n",
      "DONE\n",
      "2\n",
      ".3\n",
      "..5\n",
      "NO\n"
     ]
    }
   ],
   "source": [
    "set_file(\"\"\"\n",
    "ADD 2\n",
    "ADD 3\n",
    "ADD 2\n",
    "SEARCH 2\n",
    "ADD 5\n",
    "PRINTTREE\n",
    "SEARCH 7\n",
    "\"\"\")\n",
    "\n",
    "class Node:\n",
    "    def __init__(self, value):\n",
    "        self.value = value\n",
    "        self.left = None\n",
    "        self.right = None\n",
    "\n",
    "\n",
    "class Tree:\n",
    "    def __init__(self):\n",
    "        self.root = None\n",
    "\n",
    "    def add(self, value):\n",
    "        if self.root is None:\n",
    "            self.root = Node(value)\n",
    "            print('DONE')\n",
    "        else:\n",
    "            self._add(self.root, value)\n",
    "\n",
    "    def _add(self, current, value):\n",
    "        if value < current.value:\n",
    "            if current.left is None:\n",
    "                current.left = Node(value)\n",
    "                print('DONE')\n",
    "            else:\n",
    "                self._add(current.left, value)\n",
    "        elif value > current.value:\n",
    "            if current.right is None:\n",
    "                current.right = Node(value)\n",
    "                print('DONE')\n",
    "            else:\n",
    "                self._add(current.right, value)\n",
    "        else:\n",
    "            print('ALREADY')\n",
    "\n",
    "    def search(self, value):\n",
    "        self._search(self.root, value)\n",
    "\n",
    "    def _search(self, current, value):\n",
    "        if current is None:\n",
    "            print('NO')\n",
    "        elif current.value == value:\n",
    "            print('YES')\n",
    "        elif value < current.value:\n",
    "            self._search(current.left, value)\n",
    "        else:\n",
    "            self._search(current.right, value)\n",
    "\n",
    "    def display(self):\n",
    "        self._display(self.root, 0)\n",
    "\n",
    "    def _display(self, current, depth):\n",
    "        if current is not None:\n",
    "            self._display(current.left, depth+1)\n",
    "            print('.'*depth + str(current.value))\n",
    "            self._display(current.right, depth+1)\n",
    "\n",
    "\n",
    "tree = Tree()\n",
    "with open('input.txt', 'r') as file:\n",
    "    for command in file:\n",
    "        match command.strip().split():\n",
    "            case 'ADD', value:\n",
    "                tree.add(int(value))\n",
    "            case 'SEARCH', value:\n",
    "                tree.search(int(value))\n",
    "            case 'PRINTTREE',:\n",
    "                tree.display()"
   ]
  },
  {
   "cell_type": "markdown",
   "id": "17b36ac1-eec4-4134-912b-5d70ed309440",
   "metadata": {},
   "source": [
    "---"
   ]
  },
  {
   "cell_type": "markdown",
   "id": "24089034-a884-41b6-adf0-8effc53a4198",
   "metadata": {
    "jp-MarkdownHeadingCollapsed": true
   },
   "source": [
    "## E. Размер поддеревьев"
   ]
  },
  {
   "cell_type": "code",
   "execution_count": 47,
   "id": "a55ba6bb-e876-45e3-b206-aaac2317128c",
   "metadata": {},
   "outputs": [
    {
     "name": "stdout",
     "output_type": "stream",
     "text": [
      "7 1 1 1 3 1 1\n"
     ]
    }
   ],
   "source": [
    "set_input(\"\"\"\n",
    "7\n",
    "1 2\n",
    "1 3\n",
    "1 4\n",
    "5 1\n",
    "6 5\n",
    "7 5\n",
    "\"\"\")\n",
    "\n",
    "from collections import defaultdict\n",
    "import sys\n",
    "\n",
    "sys.setrecursionlimit(100000)\n",
    "n = int(input())\n",
    "rels, counts = defaultdict(list), {}\n",
    "\n",
    "for _ in range(n-1):\n",
    "    node1, node2 = map(int, input().split())\n",
    "    rels[node1].append(node2)\n",
    "    rels[node2].append(node1)\n",
    "\n",
    "def count_vertices(node, skip=-1):\n",
    "    count = 0\n",
    "    for rel in rels.get(node, []):\n",
    "        if rel != skip:\n",
    "            count += 1 + count_vertices(rel, node)\n",
    "    counts[node] = count\n",
    "    return count\n",
    "\n",
    "count_vertices(1)\n",
    "print(*[counts.get(node + 1, 0) + 1 \n",
    "        for node in range(n)])"
   ]
  },
  {
   "cell_type": "markdown",
   "id": "57198412-a374-4e15-822e-094066903c01",
   "metadata": {},
   "source": [
    "---"
   ]
  },
  {
   "cell_type": "markdown",
   "id": "72d5815f-36cc-461f-a041-3be0099d55e5",
   "metadata": {
    "jp-MarkdownHeadingCollapsed": true
   },
   "source": [
    "## F. Бюрократия"
   ]
  },
  {
   "cell_type": "code",
   "execution_count": 2,
   "id": "9862988e-85c9-4e4e-8054-117b6c810e5b",
   "metadata": {
    "scrolled": true
   },
   "outputs": [
    {
     "name": "stdout",
     "output_type": "stream",
     "text": [
      "13 8 1 3 1\n"
     ]
    }
   ],
   "source": [
    "set_input(\"\"\"\n",
    "5\n",
    "1 2 2 4\n",
    "\"\"\")\n",
    "\n",
    "from collections import defaultdict\n",
    "import sys\n",
    "\n",
    "sys.setrecursionlimit(1000000)\n",
    "n = int(input())\n",
    "parents = map(int, input().split())\n",
    "tree = defaultdict(list)\n",
    "tasks = [1] * (n + 1)\n",
    "money = [1] * (n + 1)\n",
    "\n",
    "for child, parent in enumerate(parents, 2):\n",
    "    tree[parent].append(child)\n",
    "\n",
    "def count_tasks(node=1):\n",
    "    for child in tree[node]:\n",
    "        tasks[node] += count_tasks(child)\n",
    "    return tasks[node] \n",
    "\n",
    "def count_money(node=1):\n",
    "    for child in tree[node]:\n",
    "        money[node] += count_money(child) + tasks[child]\n",
    "    return money[node]\n",
    "\n",
    "count_tasks()\n",
    "count_money()\n",
    "\n",
    "print(*money[1:])"
   ]
  },
  {
   "cell_type": "markdown",
   "id": "fb037a0e-91bd-4b9b-8935-6748334dc623",
   "metadata": {},
   "source": [
    "---"
   ]
  },
  {
   "cell_type": "markdown",
   "id": "a4bc73d2-79ff-4562-9b76-9121eb1ae6f7",
   "metadata": {
    "jp-MarkdownHeadingCollapsed": true
   },
   "source": [
    "## G. Дятлы"
   ]
  },
  {
   "cell_type": "code",
   "execution_count": 54,
   "id": "9662f46c-2de6-4a47-9142-fb9799efd05d",
   "metadata": {},
   "outputs": [
    {
     "name": "stdout",
     "output_type": "stream",
     "text": [
      "7\n"
     ]
    }
   ],
   "source": [
    "set_input(\"\"\"\n",
    "4 2 13\n",
    "1 2\n",
    "2 3\n",
    "\"\"\")\n",
    "\n",
    "from collections import defaultdict\n",
    "import sys\n",
    "\n",
    "# Чтение параметров графа отношений между дятлами\n",
    "N, M, K = map(int, input().split())\n",
    "tree = defaultdict(list)\n",
    "for _ in range(M):\n",
    "    node1, node2 = map(int, input().split())\n",
    "    tree[node1].append(node2)\n",
    "    tree[node2].append(node1)\n",
    "\n",
    "# Разобрать компоненту связности и найти ее листья\n",
    "def parse_graph(node):\n",
    "    leafs = []\n",
    "    stack = [(node, 0)]\n",
    "    while stack:\n",
    "        current, parent = stack.pop()\n",
    "        if current in visited:\n",
    "            print(0)\n",
    "            sys.exit()\n",
    "        visited.add(current)\n",
    "        counter = [0, 0]\n",
    "        for child in tree[current]:\n",
    "            if child != parent:\n",
    "                is_multi = len(tree[child]) > 1\n",
    "                counter[is_multi] += 1\n",
    "                if counter[1] > 2 - (parent > 0):\n",
    "                    print(0)\n",
    "                    sys.exit()\n",
    "                if is_multi:\n",
    "                    stack.append((child, current))\n",
    "        leafs.append(counter[0])\n",
    "    return leafs\n",
    "\n",
    "# Выделение компонентов связности у графа\n",
    "graphs = []\n",
    "visited = set()\n",
    "for node in tree:\n",
    "    if node not in visited:\n",
    "        if len(tree[node]) != 1:\n",
    "            graphs.append(parse_graph(node))\n",
    "        elif len(tree[tree[node][0]]) == 1:\n",
    "            visited.add(node)\n",
    "            visited.add(tree[node][0])\n",
    "            graphs.append([1])\n",
    "\n",
    "# Количество дятлов, имеющих связи, и количество дятлов-одиночек\n",
    "n_linked = len(tree)\n",
    "n_loners = N - n_linked\n",
    "\n",
    "# Подсчет факториала (сразу по модулю) заранее\n",
    "fact_l = [1] + [0] * (N+1)\n",
    "fact_r = [0] * (N+1) + [N+1, 1]\n",
    "for i in range(N+1):\n",
    "    fact_l[i+1] = (fact_l[i] * (i+1)) % K\n",
    "    fact_r[N-i] = (fact_r[N-i+1] * (N-i)) % K\n",
    "\n",
    "answer = 1\n",
    "# Количество перестановок компонент связности\n",
    "answer *= fact_l[len(graphs)]\n",
    "for graph in graphs:\n",
    "    for n in graph:\n",
    "        # Количество перестановок листьев в компонентах связности\n",
    "        answer = (answer * fact_l[n]) % K\n",
    "    # Количество способов отразить компоненту связности\n",
    "    answer = (answer * (4, 2)[len(graph) == 1]) % K\n",
    "# Количество перестановок дятлов-одиночек\n",
    "answer = (answer * fact_r[n_linked + 2]) % K\n",
    "\n",
    "print(answer)"
   ]
  },
  {
   "cell_type": "markdown",
   "id": "07575333-5009-42e5-a990-37cb040ec93c",
   "metadata": {},
   "source": [
    "---"
   ]
  },
  {
   "cell_type": "markdown",
   "id": "11a19596-48db-4f85-b012-979696ff598a",
   "metadata": {},
   "source": [
    "## H. Вершинно-реберное покрытие дерева *"
   ]
  },
  {
   "cell_type": "code",
   "execution_count": 5,
   "id": "e5eb734b-300e-4736-806a-f3f344036a27",
   "metadata": {},
   "outputs": [
    {
     "name": "stdout",
     "output_type": "stream",
     "text": [
      "26 3\n",
      "1 3 4\n"
     ]
    }
   ],
   "source": [
    "set_input(\"\"\"\n",
    "6\n",
    "1 2\n",
    "2 3\n",
    "1 4\n",
    "4 5\n",
    "4 6\n",
    "22 48 2 2 8 1\n",
    "\"\"\")\n",
    "    \n",
    "from collections import deque\n",
    "\n",
    "# Чтение дерева\n",
    "N = int(input())\n",
    "tree = [set() for _ in range(N+1)]\n",
    "for _ in range(N - 1):\n",
    "    node1, node2 = map(int, input().split())\n",
    "    tree[node1].add(node2)\n",
    "    tree[node2].add(node1)\n",
    "\n",
    "# Чтение стоимостей пометок вершин\n",
    "costs = [0]\n",
    "for cost in map(int, input().split()):\n",
    "    costs.append(cost)\n",
    "\n",
    "# Если узел всего один, его обязательно нужно пометить\n",
    "if N == 1:\n",
    "    print(costs[1], 1)\n",
    "    print(1)\n",
    "else:\n",
    "    # Динамика для стоимости, если i-ую вершину не пометить\n",
    "    dp_skip = [0] * (N+1)\n",
    "    # Динамика для стоимости, если i-ую вершину пометить\n",
    "    dp_mark = [0] * (N+1)\n",
    "\n",
    "    # Поиск всех листьев\n",
    "    leafs = deque([])\n",
    "    for i in range(1, N+1):\n",
    "        if len(tree[i]) == 1:\n",
    "            leafs.append(i)\n",
    "            dp_mark[i] = costs[i]\n",
    "\n",
    "    # Узлы-истоки от пути с листов для каждой вершины\n",
    "    parents = [set() for _ in range(N+1)]\n",
    "    \n",
    "    # Начиная с каждого листа, пройтись по дереву и заполнить dp\n",
    "    while leafs:\n",
    "        leaf = leafs.popleft()\n",
    "        # Идем вперед по дереву до вершины-перекрестка\n",
    "        while len(tree[leaf]) - len(parents[leaf]) <= 1:\n",
    "            if parents[leaf]:\n",
    "                # Динамика\n",
    "                to_mark = to_skip = 0\n",
    "                for parent in parents[leaf]:\n",
    "                    to_mark += min(dp_mark[parent], dp_skip[parent])\n",
    "                    to_skip += dp_mark[parent]\n",
    "                dp_mark[leaf] = to_mark + costs[leaf]\n",
    "                dp_skip[leaf] = to_skip\n",
    "            # Если пришли в лист, то алгоритм закончен\n",
    "            if leaf == leafs[0]:\n",
    "                leaf = leafs.pop()\n",
    "                break\n",
    "            # Продвигаемся по дереву дальше\n",
    "            for neig in tree[leaf]:\n",
    "                if neig not in parents[leaf]:\n",
    "                    parents[neig].add(leaf)\n",
    "                    leaf = neig\n",
    "                    break\n",
    "\n",
    "    # Восстановление всех помеченных вершин\n",
    "    marks = set()\n",
    "    stack = [(leaf, -1)]\n",
    "    while stack:\n",
    "        node, prev = stack.pop()\n",
    "        if prev == -1 or prev in marks:\n",
    "            if dp_mark[node] < dp_skip[node]:\n",
    "                marks.add(node)\n",
    "        else:\n",
    "            marks.add(node)\n",
    "        for neig in parents[node]:\n",
    "            stack.append((neig, node))\n",
    "\n",
    "    # Вывод ответа\n",
    "    if dp_skip[leaf] < dp_mark[leaf]:\n",
    "        print(dp_skip[leaf], end=' ')\n",
    "    else:\n",
    "        print(dp_mark[leaf], end=' ')\n",
    "    print(len(marks))\n",
    "    print(*marks)"
   ]
  },
  {
   "cell_type": "markdown",
   "id": "68d585c4-b8b4-4faa-b4f0-1f843b933d3b",
   "metadata": {},
   "source": [
    "---"
   ]
  },
  {
   "cell_type": "markdown",
   "id": "769e15b9-da56-48f9-9d6c-39f31da2da33",
   "metadata": {
    "jp-MarkdownHeadingCollapsed": true
   },
   "source": [
    "## I. Пара путей *"
   ]
  },
  {
   "cell_type": "code",
   "execution_count": 3,
   "id": "8bab2379-701f-49ac-b405-b70de627d1f7",
   "metadata": {},
   "outputs": [
    {
     "name": "stdout",
     "output_type": "stream",
     "text": [
      "21\n"
     ]
    }
   ],
   "source": [
    "set_input(\"\"\"\n",
    "12\n",
    "1 2\n",
    "2 3\n",
    "3 4\n",
    "3 6\n",
    "6 5\n",
    "6 7\n",
    "7 8\n",
    "8 9\n",
    "9 10\n",
    "10 11\n",
    "5 12\n",
    "\"\"\")\n",
    "\n",
    "from collections import deque\n",
    "import sys\n",
    "\n",
    "# Чтение дерева\n",
    "sys.setrecursionlimit(1000000)\n",
    "N = int(input())\n",
    "tree = [[] for _ in range(N+1)]\n",
    "for _ in range(N - 1):\n",
    "    node1, node2 = map(int, input().split())\n",
    "    tree[node1].append(node2)\n",
    "    tree[node2].append(node1)\n",
    "\n",
    "# Обход в ширину для поиска диаметра\n",
    "def bfs(start):\n",
    "    dist = [-1] * (N + 1)\n",
    "    parents = [-1] * (N + 1)\n",
    "    dist[start] = 0\n",
    "    queue = deque([start])\n",
    "    farthest_node = start\n",
    "    max_dist = 0\n",
    "    while queue:\n",
    "        current = queue.popleft()\n",
    "        for neighbor in tree[current]:\n",
    "            if dist[neighbor] == -1:\n",
    "                dist[neighbor] = dist[current] + 1\n",
    "                parents[neighbor] = current\n",
    "                queue.append(neighbor)\n",
    "                if dist[neighbor] > max_dist:\n",
    "                    max_dist = dist[neighbor]\n",
    "                    farthest_node = neighbor\n",
    "    return farthest_node, max_dist, parents\n",
    "\n",
    "# Поиск диаметра\n",
    "node1, *_ = bfs(1)\n",
    "node2, diameter, parents = bfs(node1)\n",
    "\n",
    "# Составление пути по диаметру\n",
    "current = node2\n",
    "path = []\n",
    "while current != -1:\n",
    "    path.append(current)\n",
    "    current = parents[current]\n",
    "\n",
    "# Вычислить максимальное расстояние до листа\n",
    "def find_max_dist(node, parent):\n",
    "    if max_ds[node] == -1:\n",
    "        if len(tree[node]) == 1:\n",
    "            max_ds[node] = 0\n",
    "        else:\n",
    "            ds = []\n",
    "            for neighbor in tree[node]:\n",
    "                if neighbor != parent:\n",
    "                    ds.append(find_max_dist(neighbor, node))\n",
    "            max_ds[node] = max(ds) + 1\n",
    "    return max_ds[node]\n",
    "\n",
    "# Посчитать максимальные расстояния до листьев\n",
    "max_ds = [-1] * (N+1)\n",
    "for i in range(1, len(path)-1):\n",
    "    for neighbor in tree[path[i]]:\n",
    "        if neighbor not in (path[i-1], path[i+1]):\n",
    "            find_max_dist(neighbor, path[i])\n",
    "\n",
    "# Среди дистанций до узла найти наибольший путь\n",
    "def max_path(dists):\n",
    "    if len(dists) == 0:\n",
    "        return 0\n",
    "    if len(dists) == 1:\n",
    "        return dists[-1]\n",
    "    return sum(sorted(dists, reverse=True)[:2]) + 2\n",
    "\n",
    "max_prod = 0\n",
    "max_d_before = 0\n",
    "for i in range(2, len(path)-1):\n",
    "    # Когда разрез делается между двумя точками на диаметре\n",
    "    l, r = i-1, len(path)-i-1\n",
    "    d1 = max_path([l-1] + [max_ds[neig] for neig in tree[path[i-1]] if neig != path[i]])\n",
    "    d2 = max_path([r-1] + [max_ds[neig] for neig in tree[path[i]] if neig != path[i-1]])\n",
    "    max_d_before = max(d1, max_d_before)\n",
    "    max_prod = max(d1 * d2, max_prod)\n",
    "    max_prod = max(d2*max_d_before, max_prod)\n",
    "    # Когда разрез делается между точкой на диаметре и другой точкой\n",
    "    for neighbor in tree[path[i]]:\n",
    "        if neighbor not in (path[i-1], path[i+1]):\n",
    "            d1 = max_path([max_ds[neig] for neig in tree[neighbor] if neig != path[i]])\n",
    "            d2 = diameter\n",
    "            max_d_before = max(d1, max_d_before)\n",
    "            max_prod = max(d1*d2, max_prod)\n",
    "\n",
    "print(max_prod)"
   ]
  },
  {
   "cell_type": "markdown",
   "id": "e70fa749-7e81-400b-aca6-8ddb38e96421",
   "metadata": {},
   "source": [
    "---"
   ]
  },
  {
   "cell_type": "markdown",
   "id": "43f14a21-895d-4138-a1e6-4ebad7194bfa",
   "metadata": {},
   "source": [
    "## J. Количество топсортов дерева *"
   ]
  },
  {
   "cell_type": "code",
   "execution_count": null,
   "id": "ffd205db-14f0-4c52-880d-ef2c0d6c5f63",
   "metadata": {},
   "outputs": [],
   "source": [
    "set_input(\"\"\"\n",
    "\n",
    "\"\"\")"
   ]
  }
 ],
 "metadata": {
  "kernelspec": {
   "display_name": "Python 3 (ipykernel)",
   "language": "python",
   "name": "python3"
  },
  "language_info": {
   "codemirror_mode": {
    "name": "ipython",
    "version": 3
   },
   "file_extension": ".py",
   "mimetype": "text/x-python",
   "name": "python",
   "nbconvert_exporter": "python",
   "pygments_lexer": "ipython3",
   "version": "3.12.1"
  }
 },
 "nbformat": 4,
 "nbformat_minor": 5
}
