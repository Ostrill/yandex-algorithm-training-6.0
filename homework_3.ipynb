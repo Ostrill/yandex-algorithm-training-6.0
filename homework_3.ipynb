{
 "cells": [
  {
   "cell_type": "markdown",
   "id": "d6d631ff-fb3e-42d8-9b9d-827d973f5620",
   "metadata": {},
   "source": [
    "# Занятие 3. Стеки, очереди, деки"
   ]
  },
  {
   "cell_type": "code",
   "execution_count": 1,
   "id": "74e05171-5bc1-4394-be7a-c9fb5c719481",
   "metadata": {},
   "outputs": [],
   "source": [
    "# Замена стандартного метода input() для чтения из строки\n",
    "from utils.string_input import input, set_input"
   ]
  },
  {
   "cell_type": "markdown",
   "id": "e6459f4c-0bad-4f4d-a747-bb916c281fa6",
   "metadata": {},
   "source": [
    "---"
   ]
  },
  {
   "cell_type": "markdown",
   "id": "9f5eaadb-98e9-4133-913b-52cff1296f9a",
   "metadata": {},
   "source": [
    "## A. Правильная скобочная последовательность"
   ]
  },
  {
   "cell_type": "code",
   "execution_count": 2,
   "id": "1ab999cc-0524-4566-9252-4c525a94f7eb",
   "metadata": {},
   "outputs": [
    {
     "name": "stdout",
     "output_type": "stream",
     "text": [
      "40\n",
      "41\n",
      "91\n",
      "93\n",
      "123\n",
      "125\n"
     ]
    }
   ],
   "source": [
    "for c in '()[]{}':\n",
    "    print(ord(c))"
   ]
  },
  {
   "cell_type": "code",
   "execution_count": 3,
   "id": "9ed84bcc-53b6-4d8d-90f1-eadf7a39ad74",
   "metadata": {},
   "outputs": [
    {
     "name": "stdout",
     "output_type": "stream",
     "text": [
      "no\n"
     ]
    }
   ],
   "source": [
    "set_input(\"\"\"\n",
    "))\n",
    "\"\"\")\n",
    "    \n",
    "stack = []\n",
    "for bracket in input():\n",
    "    last_ord = 0 if not stack else ord(stack[-1])\n",
    "    if bracket in '({[':\n",
    "        stack.append(bracket)\n",
    "    elif chr(last_ord + last_ord%2 + 1) != bracket:\n",
    "        print('no')\n",
    "        break\n",
    "    else:\n",
    "        stack.pop()\n",
    "else:\n",
    "    print('no' if stack else 'yes')"
   ]
  },
  {
   "cell_type": "markdown",
   "id": "b7a5d357-3e6a-4cbd-b86a-2e92c6b1ba44",
   "metadata": {},
   "source": [
    "---"
   ]
  },
  {
   "cell_type": "markdown",
   "id": "40ce0870-673a-47c1-a2f4-fd515c72b91e",
   "metadata": {},
   "source": [
    "## B. Великое Лайнландское переселение"
   ]
  },
  {
   "cell_type": "code",
   "execution_count": 4,
   "id": "cae364a8-fcd7-4fae-b074-807a0cb1dbe0",
   "metadata": {},
   "outputs": [
    {
     "name": "stdout",
     "output_type": "stream",
     "text": [
      "-1 4 3 4 -1 6 9 8 9 -1\n"
     ]
    }
   ],
   "source": [
    "set_input(\"\"\"\n",
    "10\n",
    "1 2 3 2 1 4 2 5 3 1\n",
    "\"\"\")\n",
    "\n",
    "n = int(input())\n",
    "costs = map(int, input().split())\n",
    "    \n",
    "stack = []\n",
    "answer = []\n",
    "for i, cost in enumerate(costs):\n",
    "    answer.append(-1)\n",
    "    if stack and stack[-1][1] >= cost:\n",
    "        while stack and stack[-1][1] > cost:\n",
    "            last_i, last_cost = stack.pop()\n",
    "            answer[last_i] = i\n",
    "        stack.append((i, cost))\n",
    "    stack.append((i, cost))\n",
    "\n",
    "print(*answer)"
   ]
  },
  {
   "cell_type": "markdown",
   "id": "5ed0f7c1-4ad8-482e-88a5-6550ae6df93a",
   "metadata": {},
   "source": [
    "---"
   ]
  },
  {
   "cell_type": "markdown",
   "id": "f19418ee-5b1e-4d80-853c-8f5b9d1a3948",
   "metadata": {},
   "source": [
    "## C. Минимум на отрезке"
   ]
  },
  {
   "cell_type": "code",
   "execution_count": null,
   "id": "0da3cfc5-1f63-42ad-9c79-5f6198896a6c",
   "metadata": {},
   "outputs": [],
   "source": []
  },
  {
   "cell_type": "markdown",
   "id": "317c7279-cc1f-4490-a797-0d92c35673df",
   "metadata": {},
   "source": [
    "---"
   ]
  },
  {
   "cell_type": "markdown",
   "id": "2dba1306-6130-4cb6-a500-9c4598d14877",
   "metadata": {},
   "source": [
    "## D. Постфиксная запись"
   ]
  },
  {
   "cell_type": "code",
   "execution_count": 5,
   "id": "05675ee0-549b-4b66-8a1f-818d3da3cb95",
   "metadata": {},
   "outputs": [
    {
     "name": "stdout",
     "output_type": "stream",
     "text": [
      "-102\n"
     ]
    }
   ],
   "source": [
    "set_input(\"\"\"\n",
    "8 9 + 1 7 - *\n",
    "\"\"\")\n",
    "\n",
    "expr = input().split()\n",
    "    \n",
    "stack = []\n",
    "ops = {'+': lambda a, b: a + b,\n",
    "       '-': lambda a, b: b - a,\n",
    "       '*': lambda a, b: a * b}\n",
    "\n",
    "for token in expr:\n",
    "    if token in ops:\n",
    "        stack.append(ops[token](stack.pop(), stack.pop()))\n",
    "    else:\n",
    "        stack.append(int(token))\n",
    "        \n",
    "print(stack.pop())"
   ]
  },
  {
   "cell_type": "markdown",
   "id": "17b36ac1-eec4-4134-912b-5d70ed309440",
   "metadata": {},
   "source": [
    "---"
   ]
  },
  {
   "cell_type": "markdown",
   "id": "24089034-a884-41b6-adf0-8effc53a4198",
   "metadata": {},
   "source": [
    "## E. Значение арифметического выражения"
   ]
  },
  {
   "cell_type": "code",
   "execution_count": 6,
   "id": "865bb5c6-9201-4133-afaf-1451523acace",
   "metadata": {},
   "outputs": [
    {
     "name": "stdout",
     "output_type": "stream",
     "text": [
      "WRONG\n"
     ]
    }
   ],
   "source": [
    "set_input(\"\"\"\n",
    "1 - a + 1 + 2\n",
    "\"\"\")\n",
    "\n",
    "try:\n",
    "    print(eval(input()))\n",
    "except Exception:\n",
    "    print('WRONG')"
   ]
  },
  {
   "cell_type": "markdown",
   "id": "57198412-a374-4e15-822e-094066903c01",
   "metadata": {},
   "source": [
    "---"
   ]
  },
  {
   "cell_type": "markdown",
   "id": "72d5815f-36cc-461f-a041-3be0099d55e5",
   "metadata": {},
   "source": [
    "## F. Минимальная ПСП"
   ]
  },
  {
   "cell_type": "code",
   "execution_count": null,
   "id": "2aa473ed-559f-4d3b-85f5-d90a07751c50",
   "metadata": {},
   "outputs": [],
   "source": []
  },
  {
   "cell_type": "markdown",
   "id": "fb037a0e-91bd-4b9b-8935-6748334dc623",
   "metadata": {},
   "source": [
    "---"
   ]
  },
  {
   "cell_type": "markdown",
   "id": "a4bc73d2-79ff-4562-9b76-9121eb1ae6f7",
   "metadata": {},
   "source": [
    "## G. Очередь в ПВЗ *"
   ]
  },
  {
   "cell_type": "code",
   "execution_count": null,
   "id": "69cc7f09-94ae-40d7-97f6-150215d3b52d",
   "metadata": {},
   "outputs": [],
   "source": []
  },
  {
   "cell_type": "markdown",
   "id": "07575333-5009-42e5-a990-37cb040ec93c",
   "metadata": {},
   "source": [
    "---"
   ]
  },
  {
   "cell_type": "markdown",
   "id": "11a19596-48db-4f85-b012-979696ff598a",
   "metadata": {},
   "source": [
    "## H. Стек с суммой *"
   ]
  },
  {
   "cell_type": "code",
   "execution_count": null,
   "id": "e5eb734b-300e-4736-806a-f3f344036a27",
   "metadata": {},
   "outputs": [],
   "source": []
  },
  {
   "cell_type": "markdown",
   "id": "68d585c4-b8b4-4faa-b4f0-1f843b933d3b",
   "metadata": {},
   "source": [
    "---"
   ]
  },
  {
   "cell_type": "markdown",
   "id": "769e15b9-da56-48f9-9d6c-39f31da2da33",
   "metadata": {},
   "source": [
    "## I. Автоматизированный склад *"
   ]
  },
  {
   "cell_type": "code",
   "execution_count": null,
   "id": "507187f9-ca65-4122-ac7a-5082a6437e39",
   "metadata": {},
   "outputs": [],
   "source": []
  },
  {
   "cell_type": "markdown",
   "id": "e70fa749-7e81-400b-aca6-8ddb38e96421",
   "metadata": {},
   "source": [
    "---"
   ]
  },
  {
   "cell_type": "markdown",
   "id": "43f14a21-895d-4138-a1e6-4ebad7194bfa",
   "metadata": {},
   "source": [
    "## J. Кровать из стульев *"
   ]
  },
  {
   "cell_type": "code",
   "execution_count": null,
   "id": "e026a2f4-9043-408a-a370-2eefd5c4403d",
   "metadata": {},
   "outputs": [],
   "source": []
  }
 ],
 "metadata": {
  "kernelspec": {
   "display_name": "Python 3 (ipykernel)",
   "language": "python",
   "name": "python3"
  },
  "language_info": {
   "codemirror_mode": {
    "name": "ipython",
    "version": 3
   },
   "file_extension": ".py",
   "mimetype": "text/x-python",
   "name": "python",
   "nbconvert_exporter": "python",
   "pygments_lexer": "ipython3",
   "version": "3.12.1"
  }
 },
 "nbformat": 4,
 "nbformat_minor": 5
}
