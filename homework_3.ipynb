{
 "cells": [
  {
   "cell_type": "markdown",
   "id": "d6d631ff-fb3e-42d8-9b9d-827d973f5620",
   "metadata": {},
   "source": [
    "# Занятие 3. Стеки, очереди, деки"
   ]
  },
  {
   "cell_type": "code",
   "execution_count": 1,
   "id": "74e05171-5bc1-4394-be7a-c9fb5c719481",
   "metadata": {},
   "outputs": [],
   "source": [
    "# Замена стандартного метода input() для чтения из строки\n",
    "from utils.string_input import input, set_input"
   ]
  },
  {
   "cell_type": "markdown",
   "id": "e6459f4c-0bad-4f4d-a747-bb916c281fa6",
   "metadata": {},
   "source": [
    "---"
   ]
  },
  {
   "cell_type": "markdown",
   "id": "9f5eaadb-98e9-4133-913b-52cff1296f9a",
   "metadata": {},
   "source": [
    "## A. Правильная скобочная последовательность"
   ]
  },
  {
   "cell_type": "code",
   "execution_count": 2,
   "id": "197aaf12-d3ca-4952-90f0-df9938217c72",
   "metadata": {},
   "outputs": [
    {
     "name": "stdout",
     "output_type": "stream",
     "text": [
      "yes\n"
     ]
    }
   ],
   "source": [
    "set_input(\"\"\"\n",
    "{[]()}\n",
    "\"\"\")\n",
    "    \n",
    "stack = []\n",
    "for bracket in input() + '.':\n",
    "    if bracket in '({[':\n",
    "        stack.append(bracket)\n",
    "    elif stack and stack[-1] + bracket in '()[]{}':\n",
    "        stack.pop()\n",
    "    else:\n",
    "        break\n",
    "print('no' if stack or bracket != '.' else 'yes')"
   ]
  },
  {
   "cell_type": "markdown",
   "id": "b7a5d357-3e6a-4cbd-b86a-2e92c6b1ba44",
   "metadata": {},
   "source": [
    "---"
   ]
  },
  {
   "cell_type": "markdown",
   "id": "40ce0870-673a-47c1-a2f4-fd515c72b91e",
   "metadata": {},
   "source": [
    "## B. Великое Лайнландское переселение"
   ]
  },
  {
   "cell_type": "code",
   "execution_count": 3,
   "id": "cae364a8-fcd7-4fae-b074-807a0cb1dbe0",
   "metadata": {},
   "outputs": [
    {
     "name": "stdout",
     "output_type": "stream",
     "text": [
      "-1 4 3 4 -1 6 9 8 9 -1\n"
     ]
    }
   ],
   "source": [
    "set_input(\"\"\"\n",
    "10\n",
    "1 2 3 2 1 4 2 5 3 1\n",
    "\"\"\")\n",
    "\n",
    "n = int(input())\n",
    "costs = map(int, input().split())\n",
    "    \n",
    "stack = []\n",
    "answer = []\n",
    "for i, cost in enumerate(costs):\n",
    "    answer.append(-1)\n",
    "    if stack and stack[-1][1] >= cost:\n",
    "        while stack and stack[-1][1] > cost:\n",
    "            last_i, last_cost = stack.pop()\n",
    "            answer[last_i] = i\n",
    "        stack.append((i, cost))\n",
    "    stack.append((i, cost))\n",
    "\n",
    "print(*answer)"
   ]
  },
  {
   "cell_type": "markdown",
   "id": "5ed0f7c1-4ad8-482e-88a5-6550ae6df93a",
   "metadata": {},
   "source": [
    "---"
   ]
  },
  {
   "cell_type": "markdown",
   "id": "f19418ee-5b1e-4d80-853c-8f5b9d1a3948",
   "metadata": {},
   "source": [
    "## C. Минимум на отрезке"
   ]
  },
  {
   "cell_type": "code",
   "execution_count": 4,
   "id": "cad3eaa9-4ec4-40eb-a2f1-84e6702d50e9",
   "metadata": {},
   "outputs": [
    {
     "name": "stdout",
     "output_type": "stream",
     "text": [
      "1\n",
      "2\n",
      "2\n",
      "3\n",
      "1\n"
     ]
    }
   ],
   "source": [
    "set_input(\"\"\"\n",
    "7 3\n",
    "1 3 2 4 5 3 1\n",
    "\"\"\")\n",
    "\n",
    "n, k = map(int, input().split())\n",
    "array = list(map(int, input().split()))\n",
    "stack = []\n",
    "\n",
    "for i, elem in enumerate(array):\n",
    "    while stack and stack[-1] > elem:\n",
    "        stack.pop()\n",
    "    stack.append(elem)\n",
    "\n",
    "    if i >= k and stack and stack[0] == array[i-k]:\n",
    "        del stack[0]\n",
    "\n",
    "    if i >= k-1:\n",
    "        print(stack[0])"
   ]
  },
  {
   "cell_type": "markdown",
   "id": "317c7279-cc1f-4490-a797-0d92c35673df",
   "metadata": {},
   "source": [
    "---"
   ]
  },
  {
   "cell_type": "markdown",
   "id": "2dba1306-6130-4cb6-a500-9c4598d14877",
   "metadata": {},
   "source": [
    "## D. Постфиксная запись"
   ]
  },
  {
   "cell_type": "code",
   "execution_count": 5,
   "id": "05675ee0-549b-4b66-8a1f-818d3da3cb95",
   "metadata": {},
   "outputs": [
    {
     "name": "stdout",
     "output_type": "stream",
     "text": [
      "2\n"
     ]
    }
   ],
   "source": [
    "set_input(\"\"\"\n",
    "1 2 2 * 3 - +\n",
    "\"\"\")\n",
    "    \n",
    "stack = []\n",
    "ops = {'+': lambda a, b: a + b,\n",
    "       '-': lambda a, b: b - a,\n",
    "       '*': lambda a, b: a * b}\n",
    "\n",
    "for token in input().split():\n",
    "    if token in ops:\n",
    "        stack.append(ops[token](stack.pop(), stack.pop()))\n",
    "    else:\n",
    "        stack.append(int(token))\n",
    "        \n",
    "print(stack.pop())"
   ]
  },
  {
   "cell_type": "markdown",
   "id": "17b36ac1-eec4-4134-912b-5d70ed309440",
   "metadata": {},
   "source": [
    "---"
   ]
  },
  {
   "cell_type": "markdown",
   "id": "24089034-a884-41b6-adf0-8effc53a4198",
   "metadata": {},
   "source": [
    "## E. Значение арифметического выражения"
   ]
  },
  {
   "cell_type": "code",
   "execution_count": 6,
   "id": "a55ba6bb-e876-45e3-b206-aaac2317128c",
   "metadata": {},
   "outputs": [
    {
     "name": "stdout",
     "output_type": "stream",
     "text": [
      "WRONG\n"
     ]
    }
   ],
   "source": [
    "set_input(\"\"\"\n",
    "1+((((((((((((2)-3)+4*6)-4)*4+4)))))))\n",
    "\"\"\")\n",
    "\n",
    "expr = input() + ' '\n",
    "\n",
    "prior = {'+': 1, '-': 1, '*': 2}\n",
    "output = []\n",
    "op_stack = []\n",
    "i = 0\n",
    "\n",
    "while i < len(expr):\n",
    "    token = expr[i]\n",
    "    if token not in '0123456789()+-* ':\n",
    "        print('WRONG')\n",
    "        break \n",
    "    if token.isdigit():\n",
    "        num = 0\n",
    "        while expr[i].isdigit():\n",
    "            num = num * 10 + int(expr[i])\n",
    "            i += 1\n",
    "        output.append(num)\n",
    "    else:\n",
    "        i += 1\n",
    "        if token == ' ':\n",
    "            continue\n",
    "        elif token == '(':\n",
    "            op_stack.append(token)\n",
    "        elif token == ')':\n",
    "            while op_stack and op_stack[-1] != '(':\n",
    "                output.append(op_stack.pop())\n",
    "            if op_stack:\n",
    "                op_stack.pop()\n",
    "            else:\n",
    "                print('WRONG')\n",
    "                break    \n",
    "        else:\n",
    "            while op_stack and op_stack[-1] != '(' and prior[token] <= prior[op_stack[-1]]:\n",
    "                output.append(op_stack.pop())\n",
    "            op_stack.append(token)\n",
    "else:\n",
    "    while op_stack:\n",
    "        output.append(op_stack.pop())\n",
    "    \n",
    "    stack = []\n",
    "    ops = {'+': lambda a, b: a + b,\n",
    "           '-': lambda a, b: b - a,\n",
    "           '*': lambda a, b: a * b}\n",
    "    \n",
    "    for token in output:\n",
    "        if token in ops:\n",
    "            if len(stack) >= 2:\n",
    "                n1, n2 = stack.pop(), stack.pop()\n",
    "                if isinstance(n1, int) and isinstance(n2, int):\n",
    "                    stack.append(ops[token](n1, n2))\n",
    "                else:\n",
    "                    print('WRONG')\n",
    "                    break\n",
    "            else:\n",
    "                print('WRONG')\n",
    "                break\n",
    "        else:\n",
    "            stack.append(token)\n",
    "    else:\n",
    "        if len(stack) == 1:\n",
    "            print(stack.pop())\n",
    "        else:\n",
    "            print('WRONG')"
   ]
  },
  {
   "cell_type": "markdown",
   "id": "57198412-a374-4e15-822e-094066903c01",
   "metadata": {},
   "source": [
    "---"
   ]
  },
  {
   "cell_type": "markdown",
   "id": "72d5815f-36cc-461f-a041-3be0099d55e5",
   "metadata": {},
   "source": [
    "## F. Минимальная ПСП"
   ]
  },
  {
   "cell_type": "code",
   "execution_count": 7,
   "id": "2aa473ed-559f-4d3b-85f5-d90a07751c50",
   "metadata": {},
   "outputs": [
    {
     "name": "stdout",
     "output_type": "stream",
     "text": [
      "([])()"
     ]
    }
   ],
   "source": [
    "set_input(\"\"\"\n",
    "6\n",
    "])([\n",
    "([\n",
    "\"\"\")\n",
    "\n",
    "n = int(input())\n",
    "order, start = input(), input()\n",
    "stack = []\n",
    "\n",
    "for bracket in start:\n",
    "    if bracket in '([':\n",
    "        stack.append(bracket)\n",
    "    else:\n",
    "        stack.pop()\n",
    "\n",
    "print(start, end='')\n",
    "for i in range(len(start), n):\n",
    "    for bracket in order:\n",
    "        if bracket in '([' and i + 1 + len(stack) < n:\n",
    "            stack.append(bracket)\n",
    "            break\n",
    "        elif stack and stack[-1] + bracket in ('()', '[]'):\n",
    "            stack.pop()\n",
    "            break\n",
    "    print(bracket, end='')"
   ]
  },
  {
   "cell_type": "markdown",
   "id": "fb037a0e-91bd-4b9b-8935-6748334dc623",
   "metadata": {},
   "source": [
    "---"
   ]
  },
  {
   "cell_type": "markdown",
   "id": "a4bc73d2-79ff-4562-9b76-9121eb1ae6f7",
   "metadata": {},
   "source": [
    "## G. Очередь в ПВЗ *"
   ]
  },
  {
   "cell_type": "code",
   "execution_count": 8,
   "id": "69cc7f09-94ae-40d7-97f6-150215d3b52d",
   "metadata": {},
   "outputs": [
    {
     "name": "stdout",
     "output_type": "stream",
     "text": [
      "22\n"
     ]
    }
   ],
   "source": [
    "set_input(\"\"\"\n",
    "3 4\n",
    "1 5 9\n",
    "\"\"\")\n",
    "\n",
    "n, b = map(int, input().split())\n",
    "clients = map(int, input().split())\n",
    "queue = time = 0\n",
    "\n",
    "for new_clients in clients:\n",
    "    queue += new_clients\n",
    "    time += queue\n",
    "    queue -= min(queue, b)\n",
    "\n",
    "print(time + queue)"
   ]
  },
  {
   "cell_type": "markdown",
   "id": "07575333-5009-42e5-a990-37cb040ec93c",
   "metadata": {},
   "source": [
    "---"
   ]
  },
  {
   "cell_type": "markdown",
   "id": "11a19596-48db-4f85-b012-979696ff598a",
   "metadata": {},
   "source": [
    "## H. Стек с суммой *"
   ]
  },
  {
   "cell_type": "code",
   "execution_count": 9,
   "id": "e5eb734b-300e-4736-806a-f3f344036a27",
   "metadata": {},
   "outputs": [
    {
     "name": "stdout",
     "output_type": "stream",
     "text": [
      "5\n",
      "3\n",
      "2\n",
      "1\n"
     ]
    }
   ],
   "source": [
    "set_input(\"\"\"\n",
    "7\n",
    "+1\n",
    "+2\n",
    "+3\n",
    "?2\n",
    "-\n",
    "-\n",
    "?1\n",
    "\"\"\")\n",
    "\n",
    "n = int(input())\n",
    "stack = []\n",
    "stack_ps = [0]\n",
    "\n",
    "for i in range(n):\n",
    "    command = input()\n",
    "    if command == '-':\n",
    "        print(stack.pop())\n",
    "        stack_ps.pop()\n",
    "    else:\n",
    "        sign, num = command[0], int(command[1:])\n",
    "        if sign == '+':\n",
    "            stack.append(num)\n",
    "            stack_ps.append(stack_ps[-1] + num)\n",
    "        else:\n",
    "            print(stack_ps[-1] - stack_ps[-num-1])"
   ]
  },
  {
   "cell_type": "markdown",
   "id": "68d585c4-b8b4-4faa-b4f0-1f843b933d3b",
   "metadata": {},
   "source": [
    "---"
   ]
  },
  {
   "cell_type": "markdown",
   "id": "769e15b9-da56-48f9-9d6c-39f31da2da33",
   "metadata": {},
   "source": [
    "## I. Автоматизированный склад *"
   ]
  },
  {
   "cell_type": "code",
   "execution_count": 10,
   "id": "507187f9-ca65-4122-ac7a-5082a6437e39",
   "metadata": {},
   "outputs": [
    {
     "name": "stdout",
     "output_type": "stream",
     "text": [
      "1\n",
      "1\n",
      "2\n",
      "3\n"
     ]
    }
   ],
   "source": [
    "set_input(\"\"\"\n",
    "4\n",
    "1 3\n",
    "1 1\n",
    "3 1\n",
    "2 1\n",
    "2 2\n",
    "\"\"\")\n",
    "\n",
    "from queue import Queue\n",
    "\n",
    "n = int(input())\n",
    "\n",
    "main = input()[::2]\n",
    "a, b = sorted(map(int, main), reverse=main in '141')\n",
    "shift = lambda x: (x - a) % 4\n",
    "\n",
    "rovers = sorted(((*map(int, input().split()), i) \n",
    "                 for i in range(n)), \n",
    "                key=lambda t: t[1])\n",
    "\n",
    "order = [0] * n\n",
    "qs = [Queue() for _ in range(4)]\n",
    "[qs[shift(d)].put(rover) for d, *rover in rovers]\n",
    "\n",
    "time = 1\n",
    "if b - a != 2:\n",
    "    while not all(map(Queue.empty, qs)):\n",
    "        for i in range(4):\n",
    "            if not qs[i].empty() and qs[i].queue[0][0] <= time:\n",
    "                order[qs[i].get()[1]] = time\n",
    "                break\n",
    "        time += 1\n",
    "else:\n",
    "    while not all(map(Queue.empty, qs)):\n",
    "        flag = False\n",
    "        for i in range(2):\n",
    "            for j in (i, i+2):\n",
    "                if not qs[j].empty() and qs[j].queue[0][0] <= time:\n",
    "                    order[qs[j].get()[1]] = time\n",
    "                    flag = True\n",
    "            if flag:\n",
    "                break\n",
    "        time += 1\n",
    "\n",
    "[print(o) for o in order];"
   ]
  },
  {
   "cell_type": "markdown",
   "id": "e70fa749-7e81-400b-aca6-8ddb38e96421",
   "metadata": {},
   "source": [
    "---"
   ]
  },
  {
   "cell_type": "markdown",
   "id": "43f14a21-895d-4138-a1e6-4ebad7194bfa",
   "metadata": {},
   "source": [
    "## J. Кровать из стульев *"
   ]
  },
  {
   "cell_type": "code",
   "execution_count": 11,
   "id": "ffd205db-14f0-4c52-880d-ef2c0d6c5f63",
   "metadata": {},
   "outputs": [
    {
     "name": "stdout",
     "output_type": "stream",
     "text": [
      "0\n"
     ]
    }
   ],
   "source": [
    "set_input(\"\"\"\n",
    "1 1\n",
    "1\n",
    "1\n",
    "\"\"\")\n",
    "\n",
    "from collections import deque\n",
    "\n",
    "n, H = map(int, input().split())\n",
    "chairs = sorted(zip(*(map(int, input().split()) for _ in 'hw')))\n",
    "ps = [s := i and s + chairs[i-1][1] for i in range(n+1)]\n",
    "stack = deque()\n",
    "min_score = float('inf')\n",
    "\n",
    "l = r = 0\n",
    "while True:\n",
    "    width = ps[r+1] - ps[l]\n",
    "    if width < H:\n",
    "        r += 1\n",
    "        if r == n:\n",
    "            break\n",
    "        diff = chairs[r][0] - chairs[r-1][0]\n",
    "        while stack and stack[-1] < diff:\n",
    "            stack.pop()\n",
    "        stack.append(diff)\n",
    "    else:\n",
    "        min_score = min(len(stack) and stack[0], min_score)\n",
    "        l += 1\n",
    "        r += l > r\n",
    "        if r == n:\n",
    "            break\n",
    "        diff = chairs[l][0] - chairs[l-1][0]\n",
    "        if stack and stack[0] == diff:\n",
    "            stack.popleft()\n",
    "\n",
    "print(min_score)"
   ]
  }
 ],
 "metadata": {
  "kernelspec": {
   "display_name": "Python 3 (ipykernel)",
   "language": "python",
   "name": "python3"
  },
  "language_info": {
   "codemirror_mode": {
    "name": "ipython",
    "version": 3
   },
   "file_extension": ".py",
   "mimetype": "text/x-python",
   "name": "python",
   "nbconvert_exporter": "python",
   "pygments_lexer": "ipython3",
   "version": "3.12.1"
  }
 },
 "nbformat": 4,
 "nbformat_minor": 5
}
