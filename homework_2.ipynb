{
 "cells": [
  {
   "cell_type": "markdown",
   "id": "d6d631ff-fb3e-42d8-9b9d-827d973f5620",
   "metadata": {},
   "source": [
    "# Занятие 2. Префиксные суммы и два указателя"
   ]
  },
  {
   "cell_type": "code",
   "execution_count": 1,
   "id": "74e05171-5bc1-4394-be7a-c9fb5c719481",
   "metadata": {},
   "outputs": [],
   "source": [
    "# Замена стандартного метода input() для чтения из строки\n",
    "from string_input import input, set_input, toggle_input_mode"
   ]
  },
  {
   "cell_type": "markdown",
   "id": "e6459f4c-0bad-4f4d-a747-bb916c281fa6",
   "metadata": {},
   "source": [
    "---"
   ]
  },
  {
   "cell_type": "markdown",
   "id": "9f5eaadb-98e9-4133-913b-52cff1296f9a",
   "metadata": {},
   "source": [
    "## A. Префиксные суммы"
   ]
  },
  {
   "cell_type": "code",
   "execution_count": 2,
   "id": "9ed84bcc-53b6-4d8d-90f1-eadf7a39ad74",
   "metadata": {},
   "outputs": [
    {
     "name": "stdout",
     "output_type": "stream",
     "text": [
      "10 6 11 11 13\n"
     ]
    }
   ],
   "source": [
    "set_input(\"\"\"\n",
    "5\n",
    "10 -4 5 0 2\n",
    "\"\"\")\n",
    "\n",
    "_, arr, s = input(), input().split(), 0\n",
    "print(*[s := s + int(a) for a in arr])"
   ]
  },
  {
   "cell_type": "markdown",
   "id": "b7a5d357-3e6a-4cbd-b86a-2e92c6b1ba44",
   "metadata": {},
   "source": [
    "---"
   ]
  },
  {
   "cell_type": "markdown",
   "id": "40ce0870-673a-47c1-a2f4-fd515c72b91e",
   "metadata": {},
   "source": [
    "## B. Сумма номеров"
   ]
  },
  {
   "cell_type": "code",
   "execution_count": 3,
   "id": "cae364a8-fcd7-4fae-b074-807a0cb1dbe0",
   "metadata": {},
   "outputs": [
    {
     "name": "stdout",
     "output_type": "stream",
     "text": [
      "4\n"
     ]
    }
   ],
   "source": [
    "set_input(\"\"\"\n",
    "5 17\n",
    "17 7 10 7 10\n",
    "\"\"\")\n",
    "\n",
    "N, K = map(int, input().split())\n",
    "arr = map(int, input().split())\n",
    "\n",
    "ps = [s := a and s+a for a in (0, *arr)]\n",
    "counter = l = r = 0\n",
    "\n",
    "while r <= N:\n",
    "    s = ps[r] - ps[l]\n",
    "    l += s >= K\n",
    "    r += s <= K\n",
    "    counter += s == K\n",
    "\n",
    "print(counter)"
   ]
  },
  {
   "cell_type": "markdown",
   "id": "5ed0f7c1-4ad8-482e-88a5-6550ae6df93a",
   "metadata": {},
   "source": [
    "---"
   ]
  },
  {
   "cell_type": "markdown",
   "id": "f19418ee-5b1e-4d80-853c-8f5b9d1a3948",
   "metadata": {},
   "source": [
    "## C. Город Че"
   ]
  },
  {
   "cell_type": "code",
   "execution_count": 4,
   "id": "0da3cfc5-1f63-42ad-9c79-5f6198896a6c",
   "metadata": {},
   "outputs": [
    {
     "name": "stdout",
     "output_type": "stream",
     "text": [
      "2\n"
     ]
    }
   ],
   "source": [
    "set_input(\"\"\"\n",
    "4 4\n",
    "1 3 5 8\n",
    "\"\"\")\n",
    "\n",
    "n, max_dist = map(int, input().split())\n",
    "ds = list(map(int, input().split()))\n",
    "\n",
    "counter = l = r = 0\n",
    "\n",
    "while r < n:\n",
    "    dist = ds[r] - ds[l]\n",
    "    r += dist <= max_dist\n",
    "    l += dist >  max_dist\n",
    "    counter += dist > max_dist and n - r\n",
    "\n",
    "print(counter)"
   ]
  },
  {
   "cell_type": "markdown",
   "id": "317c7279-cc1f-4490-a797-0d92c35673df",
   "metadata": {},
   "source": [
    "---"
   ]
  },
  {
   "cell_type": "markdown",
   "id": "2dba1306-6130-4cb6-a500-9c4598d14877",
   "metadata": {},
   "source": [
    "## D. Лучший отдых"
   ]
  },
  {
   "cell_type": "code",
   "execution_count": 5,
   "id": "05675ee0-549b-4b66-8a1f-818d3da3cb95",
   "metadata": {},
   "outputs": [
    {
     "name": "stdout",
     "output_type": "stream",
     "text": [
      "1\n"
     ]
    }
   ],
   "source": [
    "set_input(\"\"\"\n",
    "4 4\n",
    "32 77 1 100\n",
    "\"\"\")\n",
    "\n",
    "n, k = map(int, input().split())\n",
    "deals = sorted(map(int, input().split()))\n",
    "\n",
    "days = l = r = 0\n",
    "\n",
    "while r < n:\n",
    "    diff = deals[r] - deals[l]\n",
    "    days = max(days, diff <= k and r-l)\n",
    "    l += diff > k\n",
    "    r += 1\n",
    "\n",
    "print(days + 1)"
   ]
  },
  {
   "cell_type": "markdown",
   "id": "17b36ac1-eec4-4134-912b-5d70ed309440",
   "metadata": {},
   "source": [
    "---"
   ]
  },
  {
   "cell_type": "markdown",
   "id": "24089034-a884-41b6-adf0-8effc53a4198",
   "metadata": {},
   "source": [
    "## E. Удаление медиан"
   ]
  },
  {
   "cell_type": "code",
   "execution_count": 6,
   "id": "865bb5c6-9201-4133-afaf-1451523acace",
   "metadata": {},
   "outputs": [
    {
     "name": "stdout",
     "output_type": "stream",
     "text": [
      "2 1 100\n"
     ]
    }
   ],
   "source": [
    "set_input(\"\"\"\n",
    "3\n",
    "2 100 1\n",
    "\"\"\")\n",
    "\n",
    "n = int(input())\n",
    "arr = sorted(input().split(), key=int)\n",
    "\n",
    "median, order = (n - 1) // 2, []\n",
    "\n",
    "for i in range(median, -1, -1):\n",
    "    order += [arr[i], arr[-i-1]]\n",
    "    \n",
    "print(*order[n%2:])"
   ]
  },
  {
   "cell_type": "markdown",
   "id": "57198412-a374-4e15-822e-094066903c01",
   "metadata": {},
   "source": [
    "---"
   ]
  },
  {
   "cell_type": "markdown",
   "id": "72d5815f-36cc-461f-a041-3be0099d55e5",
   "metadata": {},
   "source": [
    "## F. Сумма тройных произведений"
   ]
  },
  {
   "cell_type": "code",
   "execution_count": 7,
   "id": "2aa473ed-559f-4d3b-85f5-d90a07751c50",
   "metadata": {},
   "outputs": [
    {
     "name": "stdout",
     "output_type": "stream",
     "text": [
      "630987644\n"
     ]
    }
   ],
   "source": [
    "set_input(\"\"\"\n",
    "3\n",
    "143461 574468 902994\n",
    "\"\"\")\n",
    "\n",
    "n = int(input())\n",
    "_s = arr = list(map(int, input().split()))\n",
    "\n",
    "for k in (1, 2):\n",
    "    ps = [s := a+1 and s+a for a in (-1, *_s)]\n",
    "    _s = [arr[i] * (ps[-1] - ps[i+1]) for i in range(n-k)]\n",
    "    \n",
    "print(sum(_s) % 1000000007)"
   ]
  },
  {
   "cell_type": "markdown",
   "id": "fb037a0e-91bd-4b9b-8935-6748334dc623",
   "metadata": {},
   "source": [
    "---"
   ]
  },
  {
   "cell_type": "markdown",
   "id": "473fecbd-3144-47ee-9659-eda33be39b0e",
   "metadata": {},
   "source": [
    "## G. Цензурное произведение"
   ]
  },
  {
   "cell_type": "code",
   "execution_count": 8,
   "id": "69cc7f09-94ae-40d7-97f6-150215d3b52d",
   "metadata": {},
   "outputs": [
    {
     "name": "stdout",
     "output_type": "stream",
     "text": [
      "4\n"
     ]
    }
   ],
   "source": [
    "set_input(\"\"\"\n",
    "6 2\n",
    "aaabab\n",
    "\"\"\")\n",
    "\n",
    "n, c = map(int, input().split())\n",
    "string = input()\n",
    "\n",
    "a_ps, b_ps, ps = [0], [0], [0]\n",
    "\n",
    "for s in string:\n",
    "    is_a, is_b = s == 'a', s == 'b'\n",
    "    a_ps += [a_ps[-1] + is_a]\n",
    "    b_ps += [b_ps[-1] + is_b]\n",
    "    ps += [ps[-1] + (is_b and a_ps[-1])]\n",
    "\n",
    "max_len = l = r = 0\n",
    "\n",
    "while r <= n:\n",
    "    score = ps[r]-ps[l] - a_ps[l]*(b_ps[r]-b_ps[l])    \n",
    "    max_len = max(max_len, score <= c and r - l)\n",
    "    l += score > c\n",
    "    r += 1\n",
    "\n",
    "print(max_len)"
   ]
  },
  {
   "cell_type": "markdown",
   "id": "07575333-5009-42e5-a990-37cb040ec93c",
   "metadata": {},
   "source": [
    "---"
   ]
  },
  {
   "cell_type": "markdown",
   "id": "11a19596-48db-4f85-b012-979696ff598a",
   "metadata": {},
   "source": [
    "## H. Переезд в опенспейс *"
   ]
  },
  {
   "cell_type": "code",
   "execution_count": 9,
   "id": "e5eb734b-300e-4736-806a-f3f344036a27",
   "metadata": {},
   "outputs": [
    {
     "name": "stdout",
     "output_type": "stream",
     "text": [
      "3\n"
     ]
    }
   ],
   "source": [
    "set_input(\"\"\"\n",
    "3\n",
    "1 1 2\n",
    "\"\"\")\n",
    "\n",
    "n = int(input())\n",
    "arr = list(map(int, input().split()))\n",
    "\n",
    "l_cs = r_cs = 0\n",
    "l_ps, r_ps = [0]*n, [0]*n\n",
    "for i in range(n-1):\n",
    "    l, r = i, -i-1\n",
    "    l_ps[l+1] = l_ps[l] + (l_cs := l_cs+arr[l])\n",
    "    r_ps[r-1] = r_ps[r] + (r_cs := r_cs+arr[r])\n",
    "\n",
    "print(min(map(sum, zip(l_ps, r_ps))))"
   ]
  },
  {
   "cell_type": "markdown",
   "id": "68d585c4-b8b4-4faa-b4f0-1f843b933d3b",
   "metadata": {},
   "source": [
    "---"
   ]
  },
  {
   "cell_type": "markdown",
   "id": "769e15b9-da56-48f9-9d6c-39f31da2da33",
   "metadata": {},
   "source": [
    "## I. Изучение алгоритмов *"
   ]
  },
  {
   "cell_type": "code",
   "execution_count": 10,
   "id": "507187f9-ca65-4122-ac7a-5082a6437e39",
   "metadata": {},
   "outputs": [
    {
     "name": "stdout",
     "output_type": "stream",
     "text": [
      "1 5 2 4 3 "
     ]
    }
   ],
   "source": [
    "set_input(\"\"\"\n",
    "5\n",
    "1 2 3 4 5\n",
    "5 4 3 2 1\n",
    "1 0 1 0 0\n",
    "\"\"\")\n",
    "\n",
    "n = int(input())\n",
    "arr = [list(map(int, input().split())) for _ in range(2)]\n",
    "arr = [sorted(zip(*arr[::i], range(n, 0, -1)), reverse=True) for i in (1, -1)]\n",
    "options = list(map(int, input().split()))\n",
    "\n",
    "*a, o = [0]*3\n",
    "used = set()\n",
    "\n",
    "while len(used) < n:\n",
    "    option = options[o] ^ (a[options[o]] >= n)\n",
    "    current = arr[option][a[option]][-1]\n",
    "    if current not in used:\n",
    "        print(n - current + 1, end=' ')\n",
    "        used.add(current)\n",
    "        o += 1\n",
    "    a[option] += 1"
   ]
  },
  {
   "cell_type": "markdown",
   "id": "e70fa749-7e81-400b-aca6-8ddb38e96421",
   "metadata": {},
   "source": [
    "---"
   ]
  },
  {
   "cell_type": "markdown",
   "id": "43f14a21-895d-4138-a1e6-4ebad7194bfa",
   "metadata": {},
   "source": [
    "## J. Решение задач *"
   ]
  },
  {
   "cell_type": "code",
   "execution_count": 11,
   "id": "e026a2f4-9043-408a-a370-2eefd5c4403d",
   "metadata": {},
   "outputs": [
    {
     "name": "stdout",
     "output_type": "stream",
     "text": [
      "3 1 3\n"
     ]
    }
   ],
   "source": [
    "set_input(\"\"\"\n",
    "4\n",
    "1 3 2 3\n",
    "3 0\n",
    "4 2 3\n",
    "\"\"\")\n",
    "\n",
    "n = int(input())\n",
    "arr = list(map(int, input().split()))\n",
    "_, k = map(int, input().split())\n",
    "xs = list(map(int, input().split()))\n",
    "\n",
    "ps, log = [0], [0]\n",
    "\n",
    "for i in range(1, n):\n",
    "    if arr[i-1] > arr[i]:\n",
    "        log = [i]\n",
    "    elif arr[i-1] == arr[i]:\n",
    "        log.append(i)\n",
    "    ps.append(log[max(0, len(log)-k-1)])\n",
    "    \n",
    "print(*[ps[x-1]+1 for x in xs])"
   ]
  }
 ],
 "metadata": {
  "kernelspec": {
   "display_name": "Python 3 (ipykernel)",
   "language": "python",
   "name": "python3"
  },
  "language_info": {
   "codemirror_mode": {
    "name": "ipython",
    "version": 3
   },
   "file_extension": ".py",
   "mimetype": "text/x-python",
   "name": "python",
   "nbconvert_exporter": "python",
   "pygments_lexer": "ipython3",
   "version": "3.12.1"
  }
 },
 "nbformat": 4,
 "nbformat_minor": 5
}
