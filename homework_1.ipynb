{
 "cells": [
  {
   "cell_type": "markdown",
   "id": "0c593f0c-f9a5-4f05-8b43-9e739413911a",
   "metadata": {},
   "source": [
    "# Занятие 1. Тестирование"
   ]
  },
  {
   "cell_type": "code",
   "execution_count": 1,
   "id": "9cb97d9d-32d2-47b9-9a5f-c5a9ecec6b41",
   "metadata": {},
   "outputs": [],
   "source": [
    "# Замена стандартного метода input() для чтения из строки\n",
    "from utils.string_input import input, set_input, toggle_input_mode"
   ]
  },
  {
   "cell_type": "markdown",
   "id": "c24036e4-2dc0-442e-b070-0c084740f918",
   "metadata": {},
   "source": [
    "---"
   ]
  },
  {
   "cell_type": "markdown",
   "id": "9d4fea9a-f8d2-465a-8ee2-8a62a36e7b38",
   "metadata": {},
   "source": [
    "## A. Плот"
   ]
  },
  {
   "cell_type": "markdown",
   "id": "f1a577ab-9de4-43d9-a348-037628841498",
   "metadata": {},
   "source": [
    "<details><summary><i>Короткое решение</i></summary>\n",
    "\n",
    ">```Python\n",
    ">x1, y1, x2, y2, x, y = map(int, map(input, '\\r'*6))\n",
    ">print('S\\rN'[(y>y1) + (y>y2)]+'W\\rE'[(x>x1) + (x>x2)])\n",
    ">```\n",
    "</details>"
   ]
  },
  {
   "cell_type": "code",
   "execution_count": 2,
   "id": "1d73a762-4929-44a6-8460-debc608a0578",
   "metadata": {},
   "outputs": [
    {
     "name": "stdout",
     "output_type": "stream",
     "text": [
      "NW\n"
     ]
    }
   ],
   "source": [
    "set_input(\"\"\"\n",
    "-1\n",
    "-2\n",
    "5\n",
    "3\n",
    "-4\n",
    "6\n",
    "\"\"\")\n",
    "\n",
    "x1, y1, x2, y2, x, y = [int(input()) for _ in range(6)]\n",
    "\n",
    "x_direction = 'W\\rE'[(x > x1) + (x > x2)]\n",
    "y_direction = 'S\\rN'[(y > y1) + (y > y2)]\n",
    "\n",
    "print(y_direction + x_direction)"
   ]
  },
  {
   "cell_type": "markdown",
   "id": "3b9d66a3-4f7f-4807-85c6-48969a7d748f",
   "metadata": {},
   "source": [
    "---"
   ]
  },
  {
   "cell_type": "markdown",
   "id": "298e25e0-eb21-4bf9-9cd9-2f0e9e66456b",
   "metadata": {},
   "source": [
    "## B. Майки и носки"
   ]
  },
  {
   "cell_type": "markdown",
   "id": "fb284c19-bd37-4f91-a29d-2b41054a9402",
   "metadata": {},
   "source": [
    "<details><summary><i>Короткое решение</i></summary>\n",
    "\n",
    ">```Python\n",
    ">A, B, C, D = map(int, map(input, '\\r'*4))\n",
    ">cases = [(max(A, B), 0), (0, max(C, D)), (A, C), (B, D)]\n",
    ">valid = [(M+1, N+1) for M, N in cases if M < A+B and N < C+D]\n",
    ">print(*min(valid, key=sum))\n",
    ">```\n",
    "</details>"
   ]
  },
  {
   "cell_type": "code",
   "execution_count": 3,
   "id": "0800352a-b88b-48d5-a689-81eb49205eea",
   "metadata": {},
   "outputs": [
    {
     "name": "stdout",
     "output_type": "stream",
     "text": [
      "3 4\n"
     ]
    }
   ],
   "source": [
    "set_input(\"\"\"\n",
    "6\n",
    "2\n",
    "7\n",
    "3\n",
    "\"\"\")\n",
    "\n",
    "A, B, C, D = [int(input()) for _ in 'ABCD']\n",
    "\n",
    "options = [(max(A, B) + 1, 1),\n",
    "           (1, max(C, D) + 1),\n",
    "           (A + 1, C + 1), \n",
    "           (B + 1, D + 1)]\n",
    "\n",
    "valid_options = [(M, N) for M, N in options \n",
    "                 if M <= A+B and N <= C+D]\n",
    "\n",
    "print(*min(valid_options, key=sum))"
   ]
  },
  {
   "cell_type": "markdown",
   "id": "662536f0-6a3c-491e-b040-c4accf0a4110",
   "metadata": {},
   "source": [
    "---"
   ]
  },
  {
   "cell_type": "markdown",
   "id": "18e278c0-3f80-4688-b8ef-db3f75f6c96c",
   "metadata": {},
   "source": [
    "## C. Надпись на табло"
   ]
  },
  {
   "cell_type": "markdown",
   "id": "4c0a57dc-db6c-4de4-a24e-c0edc21191ec",
   "metadata": {},
   "source": [
    "<details><summary><i>Короткое решение</i></summary>\n",
    "\n",
    ">```Python\n",
    ">m = (lambda n: [n, *[input() for _ in n], n])('.'*int(input()))\n",
    ">m = [f'.{s}.' for i, s in enumerate(m[1:]) if s != m[i]][:-1] or ['']\n",
    ">m = [''.join('01'[s[i] == '#'] for s in m) for i in range(len(m[0]))]\n",
    ">b = '0'+''.join([s for i, s in enumerate(m[1:]) if s != m[i]][:-1]), 2\n",
    ">print(dict(zip([1, 13, 61, 471, 495, 4014], 'ILCHOP')).get(int(*b), 'X'))\n",
    ">```\n",
    "</details>"
   ]
  },
  {
   "cell_type": "code",
   "execution_count": 4,
   "id": "ea2717ef-2982-4484-9cf1-e3c8ad390fe3",
   "metadata": {},
   "outputs": [
    {
     "name": "stdout",
     "output_type": "stream",
     "text": [
      "H\n"
     ]
    }
   ],
   "source": [
    "set_input(\"\"\"\n",
    "10\n",
    "...###.#..\n",
    "...#####..\n",
    "...###.#..\n",
    "...###.#..\n",
    "...###.#..\n",
    "...###.#..\n",
    "...###.#..\n",
    "...###.#..\n",
    "..........\n",
    "..........\n",
    "\"\"\")\n",
    "\n",
    "m = [input() for _ in range(int(input()))]\n",
    "\n",
    "for _ in 'vh':\n",
    "    m = [row for i, row in enumerate(m) if i == 0 or row != m[i - 1]]\n",
    "    m = [row for i, row in enumerate(m, 1) if {*row} != {'.'} or 1 < i < len(m)]\n",
    "    m = [''.join(row[i] for row in m) for i in range(len(m[0]))] if m else ['.']\n",
    "\n",
    "print({'#':      'I', '####.####':    'O',\n",
    "       '#.##':   'L', '#.#####.#':    'H',\n",
    "       '###.##': 'C', '####.#####..': 'P'}.get(''.join(m), 'X'))"
   ]
  },
  {
   "cell_type": "markdown",
   "id": "67024292-7294-4b25-9ed7-b039d955ce3d",
   "metadata": {},
   "source": [
    "---"
   ]
  },
  {
   "cell_type": "markdown",
   "id": "fcbc8199-0f29-4b6b-a7fb-222b7c01dbb2",
   "metadata": {},
   "source": [
    "## D. Кондиционер (составление тестов) <kbd>💩</kbd>"
   ]
  },
  {
   "cell_type": "raw",
   "id": "35e0374e-2dee-443b-b7a4-f5d2420147f3",
   "metadata": {},
   "source": [
    "12\n",
    "-50 50 freeze\n",
    "40 0 freeze\n",
    "15 15 freeze\n",
    "-5 -1 heat\n",
    "-10 -20 heat\n",
    "-2 -2 heat\n",
    "-50 1 auto\n",
    "50 3 auto\n",
    "0 0 auto\n",
    "11 24 fan\n",
    "49 -8 fan\n",
    "4 4 fan"
   ]
  },
  {
   "cell_type": "markdown",
   "id": "d72f283b-2aff-43f3-9027-41119bcb4c0f",
   "metadata": {},
   "source": [
    "---"
   ]
  },
  {
   "cell_type": "markdown",
   "id": "97c52093-629e-4fff-9832-4879154bafb1",
   "metadata": {},
   "source": [
    "## E. Наибольшее произведение двух чисел (составление тестов) <kbd>💩</kbd>"
   ]
  },
  {
   "cell_type": "raw",
   "id": "87b234c2-4b1b-4753-8a0d-db285308fe29",
   "metadata": {},
   "source": [
    "12\n",
    "2 7 -3\n",
    "2 -100 100\n",
    "3 5 7 -1\n",
    "3 100 8 100\n",
    "4 -1 -2 -3 -4\n",
    "4 0 0 5 3\n",
    "4 0 0 -1 -2\n",
    "4 2 2 2 2\n",
    "4 90 50 -90 -100\n",
    "5 1 -10 -10 5 2\n",
    "5 1 10 20 3 2\n",
    "5 0 -1 2 -3 4"
   ]
  }
 ],
 "metadata": {
  "kernelspec": {
   "display_name": "Python 3 (ipykernel)",
   "language": "python",
   "name": "python3"
  },
  "language_info": {
   "codemirror_mode": {
    "name": "ipython",
    "version": 3
   },
   "file_extension": ".py",
   "mimetype": "text/x-python",
   "name": "python",
   "nbconvert_exporter": "python",
   "pygments_lexer": "ipython3",
   "version": "3.12.1"
  }
 },
 "nbformat": 4,
 "nbformat_minor": 5
}
